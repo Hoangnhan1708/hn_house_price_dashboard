{
  "cells": [
    {
      "cell_type": "code",
      "execution_count": 90,
      "metadata": {
        "id": "6MbrwnHENWXn"
      },
      "outputs": [],
      "source": [
        "import numpy as np\n",
        "import pandas as pd\n",
        "import matplotlib.pyplot as plt\n",
        "import seaborn as sns\n",
        "import re\n",
        "# pd.options.mode.chained_assignment = None  # default='warn'"
      ]
    },
    {
      "cell_type": "code",
      "execution_count": 39,
      "metadata": {
        "id": "ayB5n46ZN355"
      },
      "outputs": [],
      "source": [
        "# !gdown 1vuN_D5XG_Fc_vbayAbJ3SJaYfYN0JGnj"
      ]
    },
    {
      "cell_type": "code",
      "execution_count": 40,
      "metadata": {
        "id": "Crb7EmDRN-Q6"
      },
      "outputs": [],
      "source": [
        "df = pd.read_csv('./VN_housing_dataset.csv')"
      ]
    },
    {
      "cell_type": "code",
      "execution_count": 41,
      "metadata": {
        "id": "xA39aJc7OEys"
      },
      "outputs": [],
      "source": [
        "df = df.drop(['Unnamed: 0'], axis=1)\n",
        "df = df.dropna(subset = ['Ngày'])\n",
        "df['Ngày']= pd.to_datetime(df['Ngày'])"
      ]
    },
    {
      "cell_type": "code",
      "execution_count": 42,
      "metadata": {
        "colab": {
          "base_uri": "https://localhost:8080/",
          "height": 213
        },
        "id": "try6rpxtOETP",
        "outputId": "a80dfff6-0611-4eb2-9d35-497512dfcb31"
      },
      "outputs": [
        {
          "data": {
            "text/html": [
              "<div>\n",
              "<style scoped>\n",
              "    .dataframe tbody tr th:only-of-type {\n",
              "        vertical-align: middle;\n",
              "    }\n",
              "\n",
              "    .dataframe tbody tr th {\n",
              "        vertical-align: top;\n",
              "    }\n",
              "\n",
              "    .dataframe thead th {\n",
              "        text-align: right;\n",
              "    }\n",
              "</style>\n",
              "<table border=\"1\" class=\"dataframe\">\n",
              "  <thead>\n",
              "    <tr style=\"text-align: right;\">\n",
              "      <th></th>\n",
              "      <th>Ngày</th>\n",
              "      <th>Địa chỉ</th>\n",
              "      <th>Quận</th>\n",
              "      <th>Huyện</th>\n",
              "      <th>Loại hình nhà ở</th>\n",
              "      <th>Giấy tờ pháp lý</th>\n",
              "      <th>Số tầng</th>\n",
              "      <th>Số phòng ngủ</th>\n",
              "      <th>Diện tích</th>\n",
              "      <th>Dài</th>\n",
              "      <th>Rộng</th>\n",
              "      <th>Giá/m2</th>\n",
              "    </tr>\n",
              "  </thead>\n",
              "  <tbody>\n",
              "    <tr>\n",
              "      <th>0</th>\n",
              "      <td>2020-08-05</td>\n",
              "      <td>Đường Hoàng Quốc Việt, Phường Nghĩa Đô, Quận C...</td>\n",
              "      <td>Quận Cầu Giấy</td>\n",
              "      <td>Phường Nghĩa Đô</td>\n",
              "      <td>Nhà ngõ, hẻm</td>\n",
              "      <td>Đã có sổ</td>\n",
              "      <td>4</td>\n",
              "      <td>5 phòng</td>\n",
              "      <td>46 m²</td>\n",
              "      <td>NaN</td>\n",
              "      <td>NaN</td>\n",
              "      <td>86,96 triệu/m²</td>\n",
              "    </tr>\n",
              "    <tr>\n",
              "      <th>1</th>\n",
              "      <td>2020-08-05</td>\n",
              "      <td>Đường Kim Giang, Phường Kim Giang, Quận Thanh ...</td>\n",
              "      <td>Quận Thanh Xuân</td>\n",
              "      <td>Phường Kim Giang</td>\n",
              "      <td>Nhà mặt phố, mặt tiền</td>\n",
              "      <td>NaN</td>\n",
              "      <td>NaN</td>\n",
              "      <td>3 phòng</td>\n",
              "      <td>37 m²</td>\n",
              "      <td>NaN</td>\n",
              "      <td>NaN</td>\n",
              "      <td>116,22 triệu/m²</td>\n",
              "    </tr>\n",
              "    <tr>\n",
              "      <th>2</th>\n",
              "      <td>2020-08-05</td>\n",
              "      <td>phố minh khai, Phường Minh Khai, Quận Hai Bà T...</td>\n",
              "      <td>Quận Hai Bà Trưng</td>\n",
              "      <td>Phường Minh Khai</td>\n",
              "      <td>Nhà ngõ, hẻm</td>\n",
              "      <td>Đã có sổ</td>\n",
              "      <td>4</td>\n",
              "      <td>4 phòng</td>\n",
              "      <td>40 m²</td>\n",
              "      <td>10 m</td>\n",
              "      <td>4 m</td>\n",
              "      <td>65 triệu/m²</td>\n",
              "    </tr>\n",
              "  </tbody>\n",
              "</table>\n",
              "</div>"
            ],
            "text/plain": [
              "        Ngày                                            Địa chỉ  \\\n",
              "0 2020-08-05  Đường Hoàng Quốc Việt, Phường Nghĩa Đô, Quận C...   \n",
              "1 2020-08-05  Đường Kim Giang, Phường Kim Giang, Quận Thanh ...   \n",
              "2 2020-08-05  phố minh khai, Phường Minh Khai, Quận Hai Bà T...   \n",
              "\n",
              "                Quận             Huyện        Loại hình nhà ở Giấy tờ pháp lý  \\\n",
              "0      Quận Cầu Giấy   Phường Nghĩa Đô           Nhà ngõ, hẻm        Đã có sổ   \n",
              "1    Quận Thanh Xuân  Phường Kim Giang  Nhà mặt phố, mặt tiền             NaN   \n",
              "2  Quận Hai Bà Trưng  Phường Minh Khai           Nhà ngõ, hẻm        Đã có sổ   \n",
              "\n",
              "  Số tầng Số phòng ngủ Diện tích   Dài Rộng           Giá/m2  \n",
              "0       4      5 phòng     46 m²   NaN  NaN   86,96 triệu/m²  \n",
              "1     NaN      3 phòng     37 m²   NaN  NaN  116,22 triệu/m²  \n",
              "2       4      4 phòng     40 m²  10 m  4 m      65 triệu/m²  "
            ]
          },
          "execution_count": 42,
          "metadata": {},
          "output_type": "execute_result"
        }
      ],
      "source": [
        "df.head(3)"
      ]
    },
    {
      "cell_type": "code",
      "execution_count": 43,
      "metadata": {
        "colab": {
          "base_uri": "https://localhost:8080/"
        },
        "id": "0jdBuHW365Hj",
        "outputId": "7f00baec-3db8-4226-ae8a-19db441282ad"
      },
      "outputs": [
        {
          "name": "stdout",
          "output_type": "stream",
          "text": [
            "<class 'pandas.core.frame.DataFrame'>\n",
            "Index: 82496 entries, 0 to 82495\n",
            "Data columns (total 12 columns):\n",
            " #   Column           Non-Null Count  Dtype         \n",
            "---  ------           --------------  -----         \n",
            " 0   Ngày             82496 non-null  datetime64[ns]\n",
            " 1   Địa chỉ          82449 non-null  object        \n",
            " 2   Quận             82495 non-null  object        \n",
            " 3   Huyện            82449 non-null  object        \n",
            " 4   Loại hình nhà ở  82465 non-null  object        \n",
            " 5   Giấy tờ pháp lý  53610 non-null  object        \n",
            " 6   Số tầng          36399 non-null  object        \n",
            " 7   Số phòng ngủ     82458 non-null  object        \n",
            " 8   Diện tích        82495 non-null  object        \n",
            " 9   Dài              19827 non-null  object        \n",
            " 10  Rộng             35445 non-null  object        \n",
            " 11  Giá/m2           82484 non-null  object        \n",
            "dtypes: datetime64[ns](1), object(11)\n",
            "memory usage: 8.2+ MB\n"
          ]
        }
      ],
      "source": [
        "df.info()"
      ]
    },
    {
      "cell_type": "code",
      "execution_count": 44,
      "metadata": {
        "id": "o7mK0a2KRs4x"
      },
      "outputs": [],
      "source": [
        "df = df.dropna(subset=['Địa chỉ'])"
      ]
    },
    {
      "cell_type": "code",
      "execution_count": 45,
      "metadata": {
        "id": "3RMLnscBR2V3"
      },
      "outputs": [],
      "source": [
        "df.loc[df['Quận'].isna(), 'Quận'] = 'Huyện Thanh Trì'"
      ]
    },
    {
      "cell_type": "code",
      "execution_count": 46,
      "metadata": {
        "id": "TZQi42AqTJ1a"
      },
      "outputs": [],
      "source": [
        "df.rename(columns = {'Loại hình nhà ở':'Loại_hình_nhà_ở', 'Giấy tờ pháp lý':'Giấy_tờ_pháp_lý',\n",
        "                              'Số phòng ngủ':'Số_phòng_ngủ', 'Diện tích': 'Diện_tích', 'Địa chỉ': 'Địa_chỉ'}, inplace = True)\n",
        "\n",
        "df['Huyện'].fillna('Chưa rõ', inplace=True)\n",
        "df['Loại_hình_nhà_ở'].fillna('Chưa rõ', inplace=True)\n",
        "df['Giấy_tờ_pháp_lý'].fillna('Chưa rõ', inplace=True)\n",
        "df['Số_phòng_ngủ'].fillna('Chưa rõ', inplace=True)\n",
        "df['Giá/m2'].fillna('Chưa rõ', inplace=True)"
      ]
    },
    {
      "cell_type": "code",
      "execution_count": 47,
      "metadata": {
        "colab": {
          "base_uri": "https://localhost:8080/",
          "height": 213
        },
        "id": "x5cY36qSla9s",
        "outputId": "845b548b-129c-4a0f-b9c1-91f5b8325375"
      },
      "outputs": [
        {
          "data": {
            "text/html": [
              "<div>\n",
              "<style scoped>\n",
              "    .dataframe tbody tr th:only-of-type {\n",
              "        vertical-align: middle;\n",
              "    }\n",
              "\n",
              "    .dataframe tbody tr th {\n",
              "        vertical-align: top;\n",
              "    }\n",
              "\n",
              "    .dataframe thead th {\n",
              "        text-align: right;\n",
              "    }\n",
              "</style>\n",
              "<table border=\"1\" class=\"dataframe\">\n",
              "  <thead>\n",
              "    <tr style=\"text-align: right;\">\n",
              "      <th></th>\n",
              "      <th>Ngày</th>\n",
              "      <th>Địa_chỉ</th>\n",
              "      <th>Quận</th>\n",
              "      <th>Huyện</th>\n",
              "      <th>Loại_hình_nhà_ở</th>\n",
              "      <th>Giấy_tờ_pháp_lý</th>\n",
              "      <th>Số tầng</th>\n",
              "      <th>Số_phòng_ngủ</th>\n",
              "      <th>Diện_tích</th>\n",
              "      <th>Dài</th>\n",
              "      <th>Rộng</th>\n",
              "      <th>Giá/m2</th>\n",
              "    </tr>\n",
              "  </thead>\n",
              "  <tbody>\n",
              "    <tr>\n",
              "      <th>0</th>\n",
              "      <td>2020-08-05</td>\n",
              "      <td>Đường Hoàng Quốc Việt, Phường Nghĩa Đô, Quận C...</td>\n",
              "      <td>Quận Cầu Giấy</td>\n",
              "      <td>Phường Nghĩa Đô</td>\n",
              "      <td>Nhà ngõ, hẻm</td>\n",
              "      <td>Đã có sổ</td>\n",
              "      <td>4</td>\n",
              "      <td>5 phòng</td>\n",
              "      <td>46 m²</td>\n",
              "      <td>NaN</td>\n",
              "      <td>NaN</td>\n",
              "      <td>86,96 triệu/m²</td>\n",
              "    </tr>\n",
              "    <tr>\n",
              "      <th>1</th>\n",
              "      <td>2020-08-05</td>\n",
              "      <td>Đường Kim Giang, Phường Kim Giang, Quận Thanh ...</td>\n",
              "      <td>Quận Thanh Xuân</td>\n",
              "      <td>Phường Kim Giang</td>\n",
              "      <td>Nhà mặt phố, mặt tiền</td>\n",
              "      <td>Chưa rõ</td>\n",
              "      <td>NaN</td>\n",
              "      <td>3 phòng</td>\n",
              "      <td>37 m²</td>\n",
              "      <td>NaN</td>\n",
              "      <td>NaN</td>\n",
              "      <td>116,22 triệu/m²</td>\n",
              "    </tr>\n",
              "    <tr>\n",
              "      <th>2</th>\n",
              "      <td>2020-08-05</td>\n",
              "      <td>phố minh khai, Phường Minh Khai, Quận Hai Bà T...</td>\n",
              "      <td>Quận Hai Bà Trưng</td>\n",
              "      <td>Phường Minh Khai</td>\n",
              "      <td>Nhà ngõ, hẻm</td>\n",
              "      <td>Đã có sổ</td>\n",
              "      <td>4</td>\n",
              "      <td>4 phòng</td>\n",
              "      <td>40 m²</td>\n",
              "      <td>10 m</td>\n",
              "      <td>4 m</td>\n",
              "      <td>65 triệu/m²</td>\n",
              "    </tr>\n",
              "  </tbody>\n",
              "</table>\n",
              "</div>"
            ],
            "text/plain": [
              "        Ngày                                            Địa_chỉ  \\\n",
              "0 2020-08-05  Đường Hoàng Quốc Việt, Phường Nghĩa Đô, Quận C...   \n",
              "1 2020-08-05  Đường Kim Giang, Phường Kim Giang, Quận Thanh ...   \n",
              "2 2020-08-05  phố minh khai, Phường Minh Khai, Quận Hai Bà T...   \n",
              "\n",
              "                Quận             Huyện        Loại_hình_nhà_ở Giấy_tờ_pháp_lý  \\\n",
              "0      Quận Cầu Giấy   Phường Nghĩa Đô           Nhà ngõ, hẻm        Đã có sổ   \n",
              "1    Quận Thanh Xuân  Phường Kim Giang  Nhà mặt phố, mặt tiền         Chưa rõ   \n",
              "2  Quận Hai Bà Trưng  Phường Minh Khai           Nhà ngõ, hẻm        Đã có sổ   \n",
              "\n",
              "  Số tầng Số_phòng_ngủ Diện_tích   Dài Rộng           Giá/m2  \n",
              "0       4      5 phòng     46 m²   NaN  NaN   86,96 triệu/m²  \n",
              "1     NaN      3 phòng     37 m²   NaN  NaN  116,22 triệu/m²  \n",
              "2       4      4 phòng     40 m²  10 m  4 m      65 triệu/m²  "
            ]
          },
          "execution_count": 47,
          "metadata": {},
          "output_type": "execute_result"
        }
      ],
      "source": [
        "df.head(3)"
      ]
    },
    {
      "cell_type": "code",
      "execution_count": 48,
      "metadata": {
        "id": "JU1QaHzRVGbG"
      },
      "outputs": [],
      "source": [
        "# Drop cột 'Số tầng' do có giá trị null có nhiều\n",
        "df = df.drop('Số tầng', axis = 1)\n",
        "df = df.dropna(subset=['Diện_tích'])"
      ]
    },
    {
      "cell_type": "code",
      "execution_count": 49,
      "metadata": {
        "colab": {
          "base_uri": "https://localhost:8080/"
        },
        "id": "A4G_6olSOVVZ",
        "outputId": "cf83ac65-f179-45ec-ddcf-989f9873c2fb"
      },
      "outputs": [
        {
          "name": "stdout",
          "output_type": "stream",
          "text": [
            "<class 'pandas.core.frame.DataFrame'>\n",
            "Index: 82448 entries, 0 to 82495\n",
            "Data columns (total 11 columns):\n",
            " #   Column           Non-Null Count  Dtype         \n",
            "---  ------           --------------  -----         \n",
            " 0   Ngày             82448 non-null  datetime64[ns]\n",
            " 1   Địa_chỉ          82448 non-null  object        \n",
            " 2   Quận             82448 non-null  object        \n",
            " 3   Huyện            82448 non-null  object        \n",
            " 4   Loại_hình_nhà_ở  82448 non-null  object        \n",
            " 5   Giấy_tờ_pháp_lý  82448 non-null  object        \n",
            " 6   Số_phòng_ngủ     82448 non-null  object        \n",
            " 7   Diện_tích        82448 non-null  object        \n",
            " 8   Dài              19827 non-null  object        \n",
            " 9   Rộng             35443 non-null  object        \n",
            " 10  Giá/m2           82448 non-null  object        \n",
            "dtypes: datetime64[ns](1), object(10)\n",
            "memory usage: 7.5+ MB\n"
          ]
        }
      ],
      "source": [
        "df.info()"
      ]
    },
    {
      "cell_type": "markdown",
      "metadata": {
        "id": "liRk4MBLshYD"
      },
      "source": [
        "# Loại bỏ outlier ở cột `Diện tích`"
      ]
    },
    {
      "cell_type": "code",
      "execution_count": 50,
      "metadata": {
        "id": "-LkZtxdNOW-X"
      },
      "outputs": [],
      "source": [
        "df['Diện_tích'] = df['Diện_tích'].str.replace(' m²', '').astype(float)\n",
        "df['Dài'] = df['Dài'].str.replace(' m', '').astype(float)\n",
        "df['Rộng'] = df['Rộng'].str.replace(' m', '').astype(float)"
      ]
    },
    {
      "cell_type": "code",
      "execution_count": 51,
      "metadata": {
        "colab": {
          "base_uri": "https://localhost:8080/"
        },
        "id": "09ohh6P_3Kg1",
        "outputId": "6417def7-a4be-4b66-81df-0979cb125d80"
      },
      "outputs": [
        {
          "name": "stdout",
          "output_type": "stream",
          "text": [
            "        Dài  Rộng  Diện_tích\n",
            "5      12.1   3.8       46.0\n",
            "8      12.0   6.5       75.0\n",
            "14     15.2   3.9       52.8\n",
            "15     12.0   4.2       52.0\n",
            "28     12.0   4.2       45.0\n",
            "...     ...   ...        ...\n",
            "82355  13.0   3.0       37.0\n",
            "82356  16.0   6.0      100.0\n",
            "82359  14.0   5.0       80.0\n",
            "82361  20.0   4.0       89.0\n",
            "82362  20.0   4.0       90.0\n",
            "\n",
            "[14321 rows x 3 columns]\n"
          ]
        }
      ],
      "source": [
        "# Kiểm tra liệu có dòng nào với Dài * Rộng != Diện tích\n",
        "rows_with_incorrect_area = df[np.abs(df['Dài'] * df['Rộng'] - df['Diện_tích']) > 1e-6]\n",
        "if rows_with_incorrect_area.empty:\n",
        "    print('All rows are correct. No need to change.')\n",
        "else:\n",
        "    print(rows_with_incorrect_area[['Dài', 'Rộng', 'Diện_tích']])"
      ]
    },
    {
      "cell_type": "code",
      "execution_count": 52,
      "metadata": {
        "colab": {
          "base_uri": "https://localhost:8080/",
          "height": 673
        },
        "id": "Y_Q0rjQ_P510",
        "outputId": "ff29f59c-4ede-4c53-ca71-916b45bdfdd0"
      },
      "outputs": [
        {
          "name": "stdout",
          "output_type": "stream",
          "text": [
            "Dataframe's shape before: (82448, 11) \n",
            "\n",
            "Dataframe's shape after: (80924, 11) \n",
            "\n"
          ]
        },
        {
          "data": {
            "image/png": "[encoded data removed]",
            "text/plain": [
              "<Figure size 800x700 with 1 Axes>"
            ]
          },
          "metadata": {},
          "output_type": "display_data"
        }
      ],
      "source": [
        "rows_to_drop = df.query('Diện_tích >= 80 & Loại_hình_nhà_ở == \"Nhà ngõ, hẻm\"').index\n",
        "\n",
        "print('Dataframe\\'s shape before:', df.shape, '\\n')\n",
        "df.drop(rows_to_drop, inplace=True)\n",
        "print('Dataframe\\'s shape after:', df.shape, '\\n')\n",
        "\n",
        "plt.figure(figsize=(8, 7))\n",
        "sns.boxplot(y=df.query(\"Loại_hình_nhà_ở == 'Nhà ngõ, hẻm'\")['Diện_tích'])\n",
        "plt.ylabel('Diện tích (m2)')\n",
        "plt.title('Boxplot của Diện tích với loại Nhà ngõ, hẻm')\n",
        "plt.show()"
      ]
    },
    {
      "cell_type": "code",
      "execution_count": 53,
      "metadata": {
        "colab": {
          "base_uri": "https://localhost:8080/",
          "height": 673
        },
        "id": "4DNmMZ76cmUZ",
        "outputId": "00182972-e5ab-4a6c-d721-4dde0a45dc95"
      },
      "outputs": [
        {
          "name": "stdout",
          "output_type": "stream",
          "text": [
            "Dataframe's shape before: (80924, 11) \n",
            "\n",
            "Dataframe's shape after: (80879, 11) \n",
            "\n"
          ]
        },
        {
          "data": {
            "image/png": "[encoded data removed]",
            "text/plain": [
              "<Figure size 800x700 with 1 Axes>"
            ]
          },
          "metadata": {},
          "output_type": "display_data"
        }
      ],
      "source": [
        "rows_to_drop = df.query('Diện_tích >= 500 & Loại_hình_nhà_ở == \"Nhà mặt phố, mặt tiền\"').index\n",
        "\n",
        "print('Dataframe\\'s shape before:', df.shape, '\\n')\n",
        "df.drop(rows_to_drop, inplace=True)\n",
        "print('Dataframe\\'s shape after:', df.shape, '\\n')\n",
        "\n",
        "plt.figure(figsize=(8, 7))\n",
        "sns.boxplot(y=df.query(\"Loại_hình_nhà_ở == 'Nhà mặt phố, mặt tiền'\")['Diện_tích'])\n",
        "plt.ylabel('Diện tích (m2)')\n",
        "plt.title('Boxplot của Diện tích với loại Nhà mặt phố, mặt tiền')\n",
        "plt.show()\n"
      ]
    },
    {
      "cell_type": "code",
      "execution_count": 54,
      "metadata": {
        "colab": {
          "base_uri": "https://localhost:8080/",
          "height": 673
        },
        "id": "b-R7ufxcoprJ",
        "outputId": "dd6da93d-5879-4596-861b-943c8fa2bd37"
      },
      "outputs": [
        {
          "name": "stdout",
          "output_type": "stream",
          "text": [
            "Dataframe's shape before: (80879, 11) \n",
            "\n",
            "Dataframe's shape after: (80869, 11) \n",
            "\n"
          ]
        },
        {
          "data": {
            "image/png": "[encoded data removed]",
            "text/plain": [
              "<Figure size 800x700 with 1 Axes>"
            ]
          },
          "metadata": {},
          "output_type": "display_data"
        }
      ],
      "source": [
        "rows_to_drop = df.query('Diện_tích > 192 & Loại_hình_nhà_ở == \"Nhà phố liền kề\"').index\n",
        "\n",
        "print('Dataframe\\'s shape before:', df.shape, '\\n')\n",
        "df.drop(rows_to_drop, inplace=True)\n",
        "print('Dataframe\\'s shape after:', df.shape, '\\n')\n",
        "\n",
        "plt.figure(figsize=(8, 7))\n",
        "sns.boxplot(y=df.query(\"Loại_hình_nhà_ở == 'Nhà phố liền kề'\")['Diện_tích'])\n",
        "plt.ylabel('Diện tích (m2)')\n",
        "plt.title('Boxplot của Diện tích với loại Nhà phố liền kề')\n",
        "plt.show()\n"
      ]
    },
    {
      "cell_type": "code",
      "execution_count": 55,
      "metadata": {
        "colab": {
          "base_uri": "https://localhost:8080/",
          "height": 673
        },
        "id": "kETsl4xrm2oL",
        "outputId": "468d51c6-6106-47a2-e2d7-d09fc5db0430"
      },
      "outputs": [
        {
          "name": "stdout",
          "output_type": "stream",
          "text": [
            "Dataframe's shape before: (80869, 11) \n",
            "\n",
            "Dataframe's shape after: (80855, 11) \n",
            "\n"
          ]
        },
        {
          "data": {
            "image/png": "[encoded data removed]",
            "text/plain": [
              "<Figure size 800x700 with 1 Axes>"
            ]
          },
          "metadata": {},
          "output_type": "display_data"
        }
      ],
      "source": [
        "rows_to_drop = df.query('Diện_tích > 550 & Loại_hình_nhà_ở == \"Nhà biệt thự\"').index\n",
        "\n",
        "print('Dataframe\\'s shape before:', df.shape, '\\n')\n",
        "df.drop(rows_to_drop, inplace=True)\n",
        "print('Dataframe\\'s shape after:', df.shape, '\\n')\n",
        "\n",
        "plt.figure(figsize=(8, 7))\n",
        "sns.boxplot(y=df.query(\"Loại_hình_nhà_ở == 'Nhà biệt thự'\")['Diện_tích'])\n",
        "plt.ylabel('Diện tích (m2)')\n",
        "plt.title('Boxplot của Diện tích với loại Nhà biệt thự')\n",
        "plt.show()\n"
      ]
    },
    {
      "cell_type": "code",
      "execution_count": 56,
      "metadata": {
        "colab": {
          "base_uri": "https://localhost:8080/"
        },
        "id": "J2iqZUwnnwlA",
        "outputId": "238d0582-7988-4a14-bcee-16273b5e3332"
      },
      "outputs": [
        {
          "name": "stdout",
          "output_type": "stream",
          "text": [
            "<class 'pandas.core.frame.DataFrame'>\n",
            "Index: 80855 entries, 0 to 82495\n",
            "Data columns (total 11 columns):\n",
            " #   Column           Non-Null Count  Dtype         \n",
            "---  ------           --------------  -----         \n",
            " 0   Ngày             80855 non-null  datetime64[ns]\n",
            " 1   Địa_chỉ          80855 non-null  object        \n",
            " 2   Quận             80855 non-null  object        \n",
            " 3   Huyện            80855 non-null  object        \n",
            " 4   Loại_hình_nhà_ở  80855 non-null  object        \n",
            " 5   Giấy_tờ_pháp_lý  80855 non-null  object        \n",
            " 6   Số_phòng_ngủ     80855 non-null  object        \n",
            " 7   Diện_tích        80855 non-null  float64       \n",
            " 8   Dài              19365 non-null  float64       \n",
            " 9   Rộng             34621 non-null  float64       \n",
            " 10  Giá/m2           80855 non-null  object        \n",
            "dtypes: datetime64[ns](1), float64(3), object(7)\n",
            "memory usage: 7.4+ MB\n"
          ]
        }
      ],
      "source": [
        "df.info()"
      ]
    },
    {
      "cell_type": "markdown",
      "metadata": {
        "id": "RLniOYjFsY5b"
      },
      "source": [
        "# Loại bỏ outlier ở cột `Dài`"
      ]
    },
    {
      "cell_type": "code",
      "execution_count": 57,
      "metadata": {
        "colab": {
          "base_uri": "https://localhost:8080/",
          "height": 673
        },
        "id": "rHKYo0W9qcGE",
        "outputId": "2765c00e-7d38-476b-dffc-791fe08e508e"
      },
      "outputs": [
        {
          "name": "stdout",
          "output_type": "stream",
          "text": [
            "Dataframe's shape before: (80855, 11) \n",
            "\n",
            "Dataframe's shape after: (80591, 11) \n",
            "\n"
          ]
        },
        {
          "data": {
            "image/png": "[encoded data removed]",
            "text/plain": [
              "<Figure size 800x700 with 1 Axes>"
            ]
          },
          "metadata": {},
          "output_type": "display_data"
        }
      ],
      "source": [
        "rows_to_drop = df.query('Dài >= 30 & Loại_hình_nhà_ở == \"Nhà ngõ, hẻm\"').index\n",
        "\n",
        "print('Dataframe\\'s shape before:', df.shape, '\\n')\n",
        "df.drop(rows_to_drop, inplace=True)\n",
        "print('Dataframe\\'s shape after:', df.shape, '\\n')\n",
        "\n",
        "plt.figure(figsize=(8, 7))\n",
        "sns.boxplot(y=df.query(\"Loại_hình_nhà_ở == 'Nhà ngõ, hẻm'\")['Dài'])\n",
        "plt.ylabel('Dài (m)')\n",
        "plt.title('Boxplot của chiều Dài với loại Nhà ngõ, hẻm')\n",
        "plt.show()"
      ]
    },
    {
      "cell_type": "code",
      "execution_count": 58,
      "metadata": {
        "colab": {
          "base_uri": "https://localhost:8080/",
          "height": 673
        },
        "id": "N_vWbiTWrgP4",
        "outputId": "e219ce39-3d9b-4453-9473-1dd75db98e4d"
      },
      "outputs": [
        {
          "name": "stdout",
          "output_type": "stream",
          "text": [
            "Dataframe's shape before: (80591, 11) \n",
            "\n",
            "Dataframe's shape after: (80468, 11) \n",
            "\n"
          ]
        },
        {
          "data": {
            "image/png": "[encoded data removed]",
            "text/plain": [
              "<Figure size 800x700 with 1 Axes>"
            ]
          },
          "metadata": {},
          "output_type": "display_data"
        }
      ],
      "source": [
        "rows_to_drop = df.query('Dài >= 30 & Loại_hình_nhà_ở == \"Nhà mặt phố, mặt tiền\"').index\n",
        "\n",
        "print('Dataframe\\'s shape before:', df.shape, '\\n')\n",
        "df.drop(rows_to_drop, inplace=True)\n",
        "print('Dataframe\\'s shape after:', df.shape, '\\n')\n",
        "\n",
        "plt.figure(figsize=(8, 7))\n",
        "sns.boxplot(y=df.query(\"Loại_hình_nhà_ở == 'Nhà mặt phố, mặt tiền'\")['Dài'])\n",
        "plt.ylabel('Dài (m)')\n",
        "plt.title('Boxplot của chiều Dài với loại Nhà mặt phố, mặt tiền')\n",
        "plt.show()"
      ]
    },
    {
      "cell_type": "code",
      "execution_count": 59,
      "metadata": {
        "colab": {
          "base_uri": "https://localhost:8080/",
          "height": 673
        },
        "id": "75pJjCVXsm5k",
        "outputId": "d2b34271-1a47-4e6d-ce3c-c288ee978520"
      },
      "outputs": [
        {
          "name": "stdout",
          "output_type": "stream",
          "text": [
            "Dataframe's shape before: (80468, 11) \n",
            "\n",
            "Dataframe's shape after: (80452, 11) \n",
            "\n"
          ]
        },
        {
          "data": {
            "image/png": "[encoded data removed]",
            "text/plain": [
              "<Figure size 800x700 with 1 Axes>"
            ]
          },
          "metadata": {},
          "output_type": "display_data"
        }
      ],
      "source": [
        "rows_to_drop = df.query('Dài >= 40 & Loại_hình_nhà_ở == \"Nhà phố liền kề\"').index\n",
        "\n",
        "print('Dataframe\\'s shape before:', df.shape, '\\n')\n",
        "df.drop(rows_to_drop, inplace=True)\n",
        "print('Dataframe\\'s shape after:', df.shape, '\\n')\n",
        "\n",
        "plt.figure(figsize=(8, 7))\n",
        "sns.boxplot(y=df.query(\"Loại_hình_nhà_ở == 'Nhà phố liền kề'\")['Dài'])\n",
        "plt.ylabel('Dài (m)')\n",
        "plt.title('Boxplot của chiều Dài với loại Nhà phố, liền kề')\n",
        "plt.show()"
      ]
    },
    {
      "cell_type": "code",
      "execution_count": 60,
      "metadata": {
        "colab": {
          "base_uri": "https://localhost:8080/",
          "height": 673
        },
        "id": "TOexQuIsuSOc",
        "outputId": "9a99d88b-6f84-4753-cd6a-63cfcb4baad8"
      },
      "outputs": [
        {
          "name": "stdout",
          "output_type": "stream",
          "text": [
            "Dataframe's shape before: (80452, 11) \n",
            "\n",
            "Dataframe's shape after: (80448, 11) \n",
            "\n"
          ]
        },
        {
          "data": {
            "image/png": "[encoded data removed]",
            "text/plain": [
              "<Figure size 800x700 with 1 Axes>"
            ]
          },
          "metadata": {},
          "output_type": "display_data"
        }
      ],
      "source": [
        "rows_to_drop = df.query('Dài >= 100 & Loại_hình_nhà_ở == \"Nhà biệt thự\"').index\n",
        "\n",
        "print('Dataframe\\'s shape before:', df.shape, '\\n')\n",
        "df.drop(rows_to_drop, inplace=True)\n",
        "print('Dataframe\\'s shape after:', df.shape, '\\n')\n",
        "\n",
        "plt.figure(figsize=(8, 7))\n",
        "sns.boxplot(y=df.query(\"Loại_hình_nhà_ở == 'Nhà biệt thự'\")['Dài'])\n",
        "plt.ylabel('Dài (m)')\n",
        "plt.title('Boxplot của chiều Dài với loại Nhà biệt thự')\n",
        "plt.show()"
      ]
    },
    {
      "cell_type": "code",
      "execution_count": 61,
      "metadata": {
        "colab": {
          "base_uri": "https://localhost:8080/",
          "height": 673
        },
        "id": "ePAcFmqmu6eK",
        "outputId": "984ae7a0-da99-419d-c634-58b5f4ca9f1b"
      },
      "outputs": [
        {
          "name": "stdout",
          "output_type": "stream",
          "text": [
            "Dataframe's shape before: (80448, 11) \n",
            "\n",
            "Dataframe's shape after: (80448, 11) \n",
            "\n"
          ]
        },
        {
          "data": {
            "image/png": "[encoded data removed]",
            "text/plain": [
              "<Figure size 800x700 with 1 Axes>"
            ]
          },
          "metadata": {},
          "output_type": "display_data"
        }
      ],
      "source": [
        "rows_to_drop = df.query('Dài >= 50 & Dài < 18 & Loại_hình_nhà_ở == \"Chưa rõ\"').index\n",
        "\n",
        "print('Dataframe\\'s shape before:', df.shape, '\\n')\n",
        "df.drop(rows_to_drop, inplace=True)\n",
        "print('Dataframe\\'s shape after:', df.shape, '\\n')\n",
        "\n",
        "plt.figure(figsize=(8, 7))\n",
        "sns.boxplot(y=df.query(\"Loại_hình_nhà_ở == 'Chưa rõ'\")['Dài'])\n",
        "plt.ylabel('Dài (m)')\n",
        "plt.title('Boxplot của chiều Dài với loại Nhà Chưa rõ')\n",
        "plt.show()"
      ]
    },
    {
      "cell_type": "markdown",
      "metadata": {
        "id": "-PATc03-z9dV"
      },
      "source": [
        "# Fill các giá trị NaN ở cột `Dài` và `Rộng`"
      ]
    },
    {
      "cell_type": "code",
      "execution_count": 62,
      "metadata": {
        "colab": {
          "base_uri": "https://localhost:8080/"
        },
        "id": "ZTDTAVzIWHYQ",
        "outputId": "95061166-7bc1-4de6-c335-38aaaf6fbabb"
      },
      "outputs": [
        {
          "data": {
            "text/plain": [
              "Loại_hình_nhà_ở\n",
              "Chưa rõ                  18.0\n",
              "Nhà biệt thự             17.0\n",
              "Nhà mặt phố, mặt tiền    12.0\n",
              "Nhà ngõ, hẻm             10.0\n",
              "Nhà phố liền kề          13.0\n",
              "Name: Dài, dtype: float64"
            ]
          },
          "execution_count": 62,
          "metadata": {},
          "output_type": "execute_result"
        }
      ],
      "source": [
        "mean_col = df.groupby('Loại_hình_nhà_ở')['Dài'].mean().round()\n",
        "mean_col"
      ]
    },
    {
      "cell_type": "code",
      "execution_count": 63,
      "metadata": {
        "id": "Gdugq4y2pJRl"
      },
      "outputs": [],
      "source": [
        "# Fill những dòng cột Dài bị thiếu\n",
        "df['Dài'] = df.apply(lambda x: mean_col[x['Loại_hình_nhà_ở']] if pd.isna(x['Dài']) else x['Dài'], axis=1)"
      ]
    },
    {
      "cell_type": "code",
      "execution_count": 64,
      "metadata": {
        "colab": {
          "base_uri": "https://localhost:8080/",
          "height": 195
        },
        "id": "p7YlQ3-Stnsc",
        "outputId": "d0f6c72b-b2c8-44e7-e208-6d74c6c897db"
      },
      "outputs": [
        {
          "data": {
            "text/html": [
              "<div>\n",
              "<style scoped>\n",
              "    .dataframe tbody tr th:only-of-type {\n",
              "        vertical-align: middle;\n",
              "    }\n",
              "\n",
              "    .dataframe tbody tr th {\n",
              "        vertical-align: top;\n",
              "    }\n",
              "\n",
              "    .dataframe thead th {\n",
              "        text-align: right;\n",
              "    }\n",
              "</style>\n",
              "<table border=\"1\" class=\"dataframe\">\n",
              "  <thead>\n",
              "    <tr style=\"text-align: right;\">\n",
              "      <th></th>\n",
              "      <th>Ngày</th>\n",
              "      <th>Địa_chỉ</th>\n",
              "      <th>Quận</th>\n",
              "      <th>Huyện</th>\n",
              "      <th>Loại_hình_nhà_ở</th>\n",
              "      <th>Giấy_tờ_pháp_lý</th>\n",
              "      <th>Số_phòng_ngủ</th>\n",
              "      <th>Diện_tích</th>\n",
              "      <th>Dài</th>\n",
              "      <th>Rộng</th>\n",
              "      <th>Giá/m2</th>\n",
              "    </tr>\n",
              "  </thead>\n",
              "  <tbody>\n",
              "    <tr>\n",
              "      <th>0</th>\n",
              "      <td>2020-08-05</td>\n",
              "      <td>Đường Hoàng Quốc Việt, Phường Nghĩa Đô, Quận C...</td>\n",
              "      <td>Quận Cầu Giấy</td>\n",
              "      <td>Phường Nghĩa Đô</td>\n",
              "      <td>Nhà ngõ, hẻm</td>\n",
              "      <td>Đã có sổ</td>\n",
              "      <td>5 phòng</td>\n",
              "      <td>46.0</td>\n",
              "      <td>10.0</td>\n",
              "      <td>4.600000</td>\n",
              "      <td>86,96 triệu/m²</td>\n",
              "    </tr>\n",
              "    <tr>\n",
              "      <th>1</th>\n",
              "      <td>2020-08-05</td>\n",
              "      <td>Đường Kim Giang, Phường Kim Giang, Quận Thanh ...</td>\n",
              "      <td>Quận Thanh Xuân</td>\n",
              "      <td>Phường Kim Giang</td>\n",
              "      <td>Nhà mặt phố, mặt tiền</td>\n",
              "      <td>Chưa rõ</td>\n",
              "      <td>3 phòng</td>\n",
              "      <td>37.0</td>\n",
              "      <td>12.0</td>\n",
              "      <td>3.083333</td>\n",
              "      <td>116,22 triệu/m²</td>\n",
              "    </tr>\n",
              "    <tr>\n",
              "      <th>2</th>\n",
              "      <td>2020-08-05</td>\n",
              "      <td>phố minh khai, Phường Minh Khai, Quận Hai Bà T...</td>\n",
              "      <td>Quận Hai Bà Trưng</td>\n",
              "      <td>Phường Minh Khai</td>\n",
              "      <td>Nhà ngõ, hẻm</td>\n",
              "      <td>Đã có sổ</td>\n",
              "      <td>4 phòng</td>\n",
              "      <td>40.0</td>\n",
              "      <td>10.0</td>\n",
              "      <td>4.000000</td>\n",
              "      <td>65 triệu/m²</td>\n",
              "    </tr>\n",
              "  </tbody>\n",
              "</table>\n",
              "</div>"
            ],
            "text/plain": [
              "        Ngày                                            Địa_chỉ  \\\n",
              "0 2020-08-05  Đường Hoàng Quốc Việt, Phường Nghĩa Đô, Quận C...   \n",
              "1 2020-08-05  Đường Kim Giang, Phường Kim Giang, Quận Thanh ...   \n",
              "2 2020-08-05  phố minh khai, Phường Minh Khai, Quận Hai Bà T...   \n",
              "\n",
              "                Quận             Huyện        Loại_hình_nhà_ở Giấy_tờ_pháp_lý  \\\n",
              "0      Quận Cầu Giấy   Phường Nghĩa Đô           Nhà ngõ, hẻm        Đã có sổ   \n",
              "1    Quận Thanh Xuân  Phường Kim Giang  Nhà mặt phố, mặt tiền         Chưa rõ   \n",
              "2  Quận Hai Bà Trưng  Phường Minh Khai           Nhà ngõ, hẻm        Đã có sổ   \n",
              "\n",
              "  Số_phòng_ngủ  Diện_tích   Dài      Rộng           Giá/m2  \n",
              "0      5 phòng       46.0  10.0  4.600000   86,96 triệu/m²  \n",
              "1      3 phòng       37.0  12.0  3.083333  116,22 triệu/m²  \n",
              "2      4 phòng       40.0  10.0  4.000000      65 triệu/m²  "
            ]
          },
          "execution_count": 64,
          "metadata": {},
          "output_type": "execute_result"
        }
      ],
      "source": [
        "# Tính chiều rộng của cột \"Rộng\" = Diện tích / Dài\n",
        "df['Rộng'] = df.apply(lambda x: x['Diện_tích'] / x['Dài'] if pd.isna(x['Rộng']) else x['Rộng'], axis=1)\n",
        "df.head(3)"
      ]
    },
    {
      "cell_type": "code",
      "execution_count": 65,
      "metadata": {
        "colab": {
          "base_uri": "https://localhost:8080/"
        },
        "id": "Vqimds4K048K",
        "outputId": "03301db9-d9d6-428e-9e16-a4c597633532"
      },
      "outputs": [
        {
          "name": "stdout",
          "output_type": "stream",
          "text": [
            "        Dài  Rộng  Diện_tích\n",
            "5      12.1   3.8       46.0\n",
            "6      10.0   4.5       52.0\n",
            "7      12.0   6.8       32.0\n",
            "8      12.0   6.5       75.0\n",
            "9      10.0   3.5       41.0\n",
            "...     ...   ...        ...\n",
            "82357  10.0   4.0       20.0\n",
            "82359  14.0   5.0       80.0\n",
            "82360  10.0   3.0       34.0\n",
            "82361  20.0   4.0       89.0\n",
            "82362  20.0   4.0       90.0\n",
            "\n",
            "[27959 rows x 3 columns]\n"
          ]
        }
      ],
      "source": [
        "# Kiểm tra liệu có dòng nào với Dài * Rộng != Diện tích\n",
        "rows_with_incorrect_area = df[np.abs(df['Dài'] * df['Rộng'] - df['Diện_tích']) > 1e-6]\n",
        "if rows_with_incorrect_area.empty:\n",
        "    print('All rows are correct. No need to change.')\n",
        "else:\n",
        "    print(rows_with_incorrect_area[['Dài', 'Rộng', 'Diện_tích']])"
      ]
    },
    {
      "cell_type": "code",
      "execution_count": 66,
      "metadata": {
        "id": "qaZw64JS4XaP"
      },
      "outputs": [],
      "source": [
        "df = df.drop(['Dài', 'Rộng'], axis = 1)"
      ]
    },
    {
      "cell_type": "code",
      "execution_count": 67,
      "metadata": {
        "colab": {
          "base_uri": "https://localhost:8080/",
          "height": 143
        },
        "id": "nYZtE8mE6k4B",
        "outputId": "92f4fd51-7e8c-41b5-f917-9a8f989320c5"
      },
      "outputs": [
        {
          "data": {
            "text/html": [
              "<div>\n",
              "<style scoped>\n",
              "    .dataframe tbody tr th:only-of-type {\n",
              "        vertical-align: middle;\n",
              "    }\n",
              "\n",
              "    .dataframe tbody tr th {\n",
              "        vertical-align: top;\n",
              "    }\n",
              "\n",
              "    .dataframe thead th {\n",
              "        text-align: right;\n",
              "    }\n",
              "</style>\n",
              "<table border=\"1\" class=\"dataframe\">\n",
              "  <thead>\n",
              "    <tr style=\"text-align: right;\">\n",
              "      <th></th>\n",
              "      <th>Ngày</th>\n",
              "      <th>Địa_chỉ</th>\n",
              "      <th>Quận</th>\n",
              "      <th>Huyện</th>\n",
              "      <th>Loại_hình_nhà_ở</th>\n",
              "      <th>Giấy_tờ_pháp_lý</th>\n",
              "      <th>Số_phòng_ngủ</th>\n",
              "      <th>Diện_tích</th>\n",
              "      <th>Giá/m2</th>\n",
              "    </tr>\n",
              "  </thead>\n",
              "  <tbody>\n",
              "    <tr>\n",
              "      <th>0</th>\n",
              "      <td>2020-08-05</td>\n",
              "      <td>Đường Hoàng Quốc Việt, Phường Nghĩa Đô, Quận C...</td>\n",
              "      <td>Quận Cầu Giấy</td>\n",
              "      <td>Phường Nghĩa Đô</td>\n",
              "      <td>Nhà ngõ, hẻm</td>\n",
              "      <td>Đã có sổ</td>\n",
              "      <td>5 phòng</td>\n",
              "      <td>46.0</td>\n",
              "      <td>86,96 triệu/m²</td>\n",
              "    </tr>\n",
              "    <tr>\n",
              "      <th>1</th>\n",
              "      <td>2020-08-05</td>\n",
              "      <td>Đường Kim Giang, Phường Kim Giang, Quận Thanh ...</td>\n",
              "      <td>Quận Thanh Xuân</td>\n",
              "      <td>Phường Kim Giang</td>\n",
              "      <td>Nhà mặt phố, mặt tiền</td>\n",
              "      <td>Chưa rõ</td>\n",
              "      <td>3 phòng</td>\n",
              "      <td>37.0</td>\n",
              "      <td>116,22 triệu/m²</td>\n",
              "    </tr>\n",
              "    <tr>\n",
              "      <th>2</th>\n",
              "      <td>2020-08-05</td>\n",
              "      <td>phố minh khai, Phường Minh Khai, Quận Hai Bà T...</td>\n",
              "      <td>Quận Hai Bà Trưng</td>\n",
              "      <td>Phường Minh Khai</td>\n",
              "      <td>Nhà ngõ, hẻm</td>\n",
              "      <td>Đã có sổ</td>\n",
              "      <td>4 phòng</td>\n",
              "      <td>40.0</td>\n",
              "      <td>65 triệu/m²</td>\n",
              "    </tr>\n",
              "  </tbody>\n",
              "</table>\n",
              "</div>"
            ],
            "text/plain": [
              "        Ngày                                            Địa_chỉ  \\\n",
              "0 2020-08-05  Đường Hoàng Quốc Việt, Phường Nghĩa Đô, Quận C...   \n",
              "1 2020-08-05  Đường Kim Giang, Phường Kim Giang, Quận Thanh ...   \n",
              "2 2020-08-05  phố minh khai, Phường Minh Khai, Quận Hai Bà T...   \n",
              "\n",
              "                Quận             Huyện        Loại_hình_nhà_ở Giấy_tờ_pháp_lý  \\\n",
              "0      Quận Cầu Giấy   Phường Nghĩa Đô           Nhà ngõ, hẻm        Đã có sổ   \n",
              "1    Quận Thanh Xuân  Phường Kim Giang  Nhà mặt phố, mặt tiền         Chưa rõ   \n",
              "2  Quận Hai Bà Trưng  Phường Minh Khai           Nhà ngõ, hẻm        Đã có sổ   \n",
              "\n",
              "  Số_phòng_ngủ  Diện_tích           Giá/m2  \n",
              "0      5 phòng       46.0   86,96 triệu/m²  \n",
              "1      3 phòng       37.0  116,22 triệu/m²  \n",
              "2      4 phòng       40.0      65 triệu/m²  "
            ]
          },
          "execution_count": 67,
          "metadata": {},
          "output_type": "execute_result"
        }
      ],
      "source": [
        "df.head(3)"
      ]
    },
    {
      "cell_type": "code",
      "execution_count": 68,
      "metadata": {
        "colab": {
          "base_uri": "https://localhost:8080/"
        },
        "id": "ytoq_ATR8-2k",
        "outputId": "1c62e95b-1a1d-4109-d1a2-2a9d336d4a1f"
      },
      "outputs": [
        {
          "name": "stdout",
          "output_type": "stream",
          "text": [
            "1100     1,202777777 tỷ/m²\n",
            "1144     1,142857142 tỷ/m²\n",
            "1657            1,96 tỷ/m²\n",
            "2849     1,557142857 tỷ/m²\n",
            "2939     1,316666666 tỷ/m²\n",
            "               ...        \n",
            "78107    5,833333333 tỷ/m²\n",
            "79034         1,0125 tỷ/m²\n",
            "79835    1,706666666 tỷ/m²\n",
            "80222            1,5 tỷ/m²\n",
            "81845    2,538461538 tỷ/m²\n",
            "Name: Giá/m2, Length: 115, dtype: object\n"
          ]
        }
      ],
      "source": [
        "# Select rows where the 'Giá/m2' column contains the string 'tỷ/m²'\n",
        "rows = df[df['Giá/m2'].str.contains('tỷ/m²')]\n",
        "\n",
        "# Print the selected rows\n",
        "print(rows['Giá/m2'])"
      ]
    },
    {
      "cell_type": "code",
      "execution_count": 69,
      "metadata": {
        "colab": {
          "base_uri": "https://localhost:8080/",
          "height": 213
        },
        "id": "rVRLILbi1fPQ",
        "outputId": "6d165438-d8db-4d55-dfe5-bd3f55b3d579"
      },
      "outputs": [
        {
          "data": {
            "text/html": [
              "<div>\n",
              "<style scoped>\n",
              "    .dataframe tbody tr th:only-of-type {\n",
              "        vertical-align: middle;\n",
              "    }\n",
              "\n",
              "    .dataframe tbody tr th {\n",
              "        vertical-align: top;\n",
              "    }\n",
              "\n",
              "    .dataframe thead th {\n",
              "        text-align: right;\n",
              "    }\n",
              "</style>\n",
              "<table border=\"1\" class=\"dataframe\">\n",
              "  <thead>\n",
              "    <tr style=\"text-align: right;\">\n",
              "      <th></th>\n",
              "      <th>Ngày</th>\n",
              "      <th>Địa_chỉ</th>\n",
              "      <th>Quận</th>\n",
              "      <th>Huyện</th>\n",
              "      <th>Loại_hình_nhà_ở</th>\n",
              "      <th>Giấy_tờ_pháp_lý</th>\n",
              "      <th>Số_phòng_ngủ</th>\n",
              "      <th>Diện_tích</th>\n",
              "      <th>Giá/m2 (triệu/m2)</th>\n",
              "    </tr>\n",
              "  </thead>\n",
              "  <tbody>\n",
              "    <tr>\n",
              "      <th>0</th>\n",
              "      <td>2020-08-05</td>\n",
              "      <td>Đường Hoàng Quốc Việt, Phường Nghĩa Đô, Quận C...</td>\n",
              "      <td>Quận Cầu Giấy</td>\n",
              "      <td>Phường Nghĩa Đô</td>\n",
              "      <td>Nhà ngõ, hẻm</td>\n",
              "      <td>Đã có sổ</td>\n",
              "      <td>5 phòng</td>\n",
              "      <td>46.0</td>\n",
              "      <td>86.96</td>\n",
              "    </tr>\n",
              "    <tr>\n",
              "      <th>1</th>\n",
              "      <td>2020-08-05</td>\n",
              "      <td>Đường Kim Giang, Phường Kim Giang, Quận Thanh ...</td>\n",
              "      <td>Quận Thanh Xuân</td>\n",
              "      <td>Phường Kim Giang</td>\n",
              "      <td>Nhà mặt phố, mặt tiền</td>\n",
              "      <td>Chưa rõ</td>\n",
              "      <td>3 phòng</td>\n",
              "      <td>37.0</td>\n",
              "      <td>116.22</td>\n",
              "    </tr>\n",
              "    <tr>\n",
              "      <th>2</th>\n",
              "      <td>2020-08-05</td>\n",
              "      <td>phố minh khai, Phường Minh Khai, Quận Hai Bà T...</td>\n",
              "      <td>Quận Hai Bà Trưng</td>\n",
              "      <td>Phường Minh Khai</td>\n",
              "      <td>Nhà ngõ, hẻm</td>\n",
              "      <td>Đã có sổ</td>\n",
              "      <td>4 phòng</td>\n",
              "      <td>40.0</td>\n",
              "      <td>65.00</td>\n",
              "    </tr>\n",
              "  </tbody>\n",
              "</table>\n",
              "</div>"
            ],
            "text/plain": [
              "        Ngày                                            Địa_chỉ  \\\n",
              "0 2020-08-05  Đường Hoàng Quốc Việt, Phường Nghĩa Đô, Quận C...   \n",
              "1 2020-08-05  Đường Kim Giang, Phường Kim Giang, Quận Thanh ...   \n",
              "2 2020-08-05  phố minh khai, Phường Minh Khai, Quận Hai Bà T...   \n",
              "\n",
              "                Quận             Huyện        Loại_hình_nhà_ở Giấy_tờ_pháp_lý  \\\n",
              "0      Quận Cầu Giấy   Phường Nghĩa Đô           Nhà ngõ, hẻm        Đã có sổ   \n",
              "1    Quận Thanh Xuân  Phường Kim Giang  Nhà mặt phố, mặt tiền         Chưa rõ   \n",
              "2  Quận Hai Bà Trưng  Phường Minh Khai           Nhà ngõ, hẻm        Đã có sổ   \n",
              "\n",
              "  Số_phòng_ngủ  Diện_tích  Giá/m2 (triệu/m2)  \n",
              "0      5 phòng       46.0              86.96  \n",
              "1      3 phòng       37.0             116.22  \n",
              "2      4 phòng       40.0              65.00  "
            ]
          },
          "execution_count": 69,
          "metadata": {},
          "output_type": "execute_result"
        }
      ],
      "source": [
        "def is_valid_price(price_string):\n",
        "    # Kiểm tra nếu giá trị chứa nhiều hơn một dấu phẩy\n",
        "    if price_string.count(',') > 1:\n",
        "        return False\n",
        "    return True\n",
        "\n",
        "def convert_price_unit(price_string):\n",
        "  if 'tỷ/m²' in price_string:\n",
        "    # Remove 'tỷ/m²' and multiply by 1000 to convert to triệu/m²\n",
        "    price_string = price_string.replace('tỷ/m²', '').replace('.', '').replace(',', '.')\n",
        "    return float(price_string) * 1000\n",
        "  elif 'đ/m²' in price_string:\n",
        "    # Remove 'đ/m²' and divide by 1000000 to convert to triệu/m²\n",
        "    price_string = price_string.replace('đ/m²', '').replace(',', '.')\n",
        "    return float(price_string) / 1000000\n",
        "  elif 'triệu/m²' in price_string:\n",
        "    # Remove 'triệu/m²'\n",
        "    price_string = price_string.replace('triệu/m²', '').replace(',', '.')\n",
        "    return float(price_string)\n",
        "\n",
        "# Lọc bỏ các giá trị không hợp lệ\n",
        "df = df[df['Giá/m2'].apply(is_valid_price)]\n",
        "\n",
        "# Áp dụng hàm convert_price_unit\n",
        "df['Giá/m2'] = df['Giá/m2'].apply(convert_price_unit)\n",
        "\n",
        "# Đổi tên cột\n",
        "df.rename(columns={'Giá/m2': 'Giá/m2 (triệu/m2)'}, inplace=True)\n",
        "\n",
        "# Hiển thị dataframe\n",
        "df.head(3)\n"
      ]
    },
    {
      "cell_type": "code",
      "execution_count": 70,
      "metadata": {
        "colab": {
          "base_uri": "https://localhost:8080/",
          "height": 213
        },
        "id": "n_rduBfU6D9Z",
        "outputId": "847d5d8d-7451-49fe-b3bd-4ea24b4e3842"
      },
      "outputs": [
        {
          "data": {
            "text/html": [
              "<div>\n",
              "<style scoped>\n",
              "    .dataframe tbody tr th:only-of-type {\n",
              "        vertical-align: middle;\n",
              "    }\n",
              "\n",
              "    .dataframe tbody tr th {\n",
              "        vertical-align: top;\n",
              "    }\n",
              "\n",
              "    .dataframe thead th {\n",
              "        text-align: right;\n",
              "    }\n",
              "</style>\n",
              "<table border=\"1\" class=\"dataframe\">\n",
              "  <thead>\n",
              "    <tr style=\"text-align: right;\">\n",
              "      <th></th>\n",
              "      <th>Ngày</th>\n",
              "      <th>Địa_chỉ</th>\n",
              "      <th>Quận</th>\n",
              "      <th>Huyện</th>\n",
              "      <th>Loại_hình_nhà_ở</th>\n",
              "      <th>Giấy_tờ_pháp_lý</th>\n",
              "      <th>Số_phòng_ngủ</th>\n",
              "      <th>Diện_tích</th>\n",
              "      <th>Giá/m2 (triệu/m2)</th>\n",
              "      <th>Tổng_giá (Triệu đồng)</th>\n",
              "    </tr>\n",
              "  </thead>\n",
              "  <tbody>\n",
              "    <tr>\n",
              "      <th>0</th>\n",
              "      <td>2020-08-05</td>\n",
              "      <td>Đường Hoàng Quốc Việt, Phường Nghĩa Đô, Quận C...</td>\n",
              "      <td>Quận Cầu Giấy</td>\n",
              "      <td>Phường Nghĩa Đô</td>\n",
              "      <td>Nhà ngõ, hẻm</td>\n",
              "      <td>Đã có sổ</td>\n",
              "      <td>5 phòng</td>\n",
              "      <td>46.0</td>\n",
              "      <td>86.96</td>\n",
              "      <td>4000.16</td>\n",
              "    </tr>\n",
              "    <tr>\n",
              "      <th>1</th>\n",
              "      <td>2020-08-05</td>\n",
              "      <td>Đường Kim Giang, Phường Kim Giang, Quận Thanh ...</td>\n",
              "      <td>Quận Thanh Xuân</td>\n",
              "      <td>Phường Kim Giang</td>\n",
              "      <td>Nhà mặt phố, mặt tiền</td>\n",
              "      <td>Chưa rõ</td>\n",
              "      <td>3 phòng</td>\n",
              "      <td>37.0</td>\n",
              "      <td>116.22</td>\n",
              "      <td>4300.14</td>\n",
              "    </tr>\n",
              "    <tr>\n",
              "      <th>2</th>\n",
              "      <td>2020-08-05</td>\n",
              "      <td>phố minh khai, Phường Minh Khai, Quận Hai Bà T...</td>\n",
              "      <td>Quận Hai Bà Trưng</td>\n",
              "      <td>Phường Minh Khai</td>\n",
              "      <td>Nhà ngõ, hẻm</td>\n",
              "      <td>Đã có sổ</td>\n",
              "      <td>4 phòng</td>\n",
              "      <td>40.0</td>\n",
              "      <td>65.00</td>\n",
              "      <td>2600.00</td>\n",
              "    </tr>\n",
              "  </tbody>\n",
              "</table>\n",
              "</div>"
            ],
            "text/plain": [
              "        Ngày                                            Địa_chỉ  \\\n",
              "0 2020-08-05  Đường Hoàng Quốc Việt, Phường Nghĩa Đô, Quận C...   \n",
              "1 2020-08-05  Đường Kim Giang, Phường Kim Giang, Quận Thanh ...   \n",
              "2 2020-08-05  phố minh khai, Phường Minh Khai, Quận Hai Bà T...   \n",
              "\n",
              "                Quận             Huyện        Loại_hình_nhà_ở Giấy_tờ_pháp_lý  \\\n",
              "0      Quận Cầu Giấy   Phường Nghĩa Đô           Nhà ngõ, hẻm        Đã có sổ   \n",
              "1    Quận Thanh Xuân  Phường Kim Giang  Nhà mặt phố, mặt tiền         Chưa rõ   \n",
              "2  Quận Hai Bà Trưng  Phường Minh Khai           Nhà ngõ, hẻm        Đã có sổ   \n",
              "\n",
              "  Số_phòng_ngủ  Diện_tích  Giá/m2 (triệu/m2)  Tổng_giá (Triệu đồng)  \n",
              "0      5 phòng       46.0              86.96                4000.16  \n",
              "1      3 phòng       37.0             116.22                4300.14  \n",
              "2      4 phòng       40.0              65.00                2600.00  "
            ]
          },
          "execution_count": 70,
          "metadata": {},
          "output_type": "execute_result"
        }
      ],
      "source": [
        "def calculate_total_price(row):\n",
        "  if row['Giá/m2 (triệu/m2)'] == 'Chưa rõ':\n",
        "    return 'Chưa rõ'\n",
        "  else:\n",
        "    return row['Giá/m2 (triệu/m2)'] * row['Diện_tích']\n",
        "\n",
        "df['Tổng_giá (Triệu đồng)'] = df.apply(calculate_total_price, axis=1)\n",
        "df.head(3)"
      ]
    },
    {
      "cell_type": "code",
      "execution_count": 94,
      "metadata": {},
      "outputs": [],
      "source": [
        "# Hàm để trích xuất tên đường từ địa chỉ\n",
        "def extract_street(address):\n",
        "    match = re.search(r'(Đường|phố|Phố) [^,]+', address)\n",
        "    if match:\n",
        "        return match.group(0)\n",
        "    return None\n",
        "\n",
        "# Áp dụng hàm để tạo cột 'Đường'\n",
        "df['Đường'] = df['Địa_chỉ'].apply(extract_street)\n",
        "\n"
      ]
    },
    {
      "cell_type": "code",
      "execution_count": null,
      "metadata": {},
      "outputs": [],
      "source": [
        "from geopy.geocoders import Nominatim\n",
        "from geopy.extra.rate_limiter import RateLimiter"
      ]
    },
    {
      "cell_type": "code",
      "execution_count": 100,
      "metadata": {},
      "outputs": [
        {
          "name": "stdout",
          "output_type": "stream",
          "text": [
            "21.0463172 105.8049518\n",
            "20.9826512 105.8157127\n",
            "20.9958701 105.8613077\n",
            "21.0145393 105.801834\n"
          ]
        },
        {
          "ename": "KeyboardInterrupt",
          "evalue": "",
          "output_type": "error",
          "traceback": [
            "\u001b[1;31m---------------------------------------------------------------------------\u001b[0m",
            "\u001b[1;31mKeyboardInterrupt\u001b[0m                         Traceback (most recent call last)",
            "Cell \u001b[1;32mIn[100], line 28\u001b[0m\n\u001b[0;32m     26\u001b[0m \u001b[38;5;66;03m# Xử lý từng chunk\u001b[39;00m\n\u001b[0;32m     27\u001b[0m \u001b[38;5;28;01mfor\u001b[39;00m chunk \u001b[38;5;129;01min\u001b[39;00m chunks:\n\u001b[1;32m---> 28\u001b[0m     chunk[\u001b[38;5;124m'\u001b[39m\u001b[38;5;124mlat\u001b[39m\u001b[38;5;124m'\u001b[39m], chunk[\u001b[38;5;124m'\u001b[39m\u001b[38;5;124mlong\u001b[39m\u001b[38;5;124m'\u001b[39m] \u001b[38;5;241m=\u001b[39m \u001b[38;5;28mzip\u001b[39m(\u001b[38;5;241m*\u001b[39m\u001b[43mchunk\u001b[49m\u001b[43m[\u001b[49m\u001b[38;5;124;43m'\u001b[39;49m\u001b[38;5;124;43mĐịa_chỉ\u001b[39;49m\u001b[38;5;124;43m'\u001b[39;49m\u001b[43m]\u001b[49m\u001b[38;5;241;43m.\u001b[39;49m\u001b[43mapply\u001b[49m\u001b[43m(\u001b[49m\u001b[43mget_coordinates\u001b[49m\u001b[43m)\u001b[49m)\n\u001b[0;32m     29\u001b[0m     processed_chunks\u001b[38;5;241m.\u001b[39mappend(chunk)\n\u001b[0;32m     31\u001b[0m \u001b[38;5;66;03m# Gộp lại các chunk sau khi đã xử lý\u001b[39;00m\n",
            "File \u001b[1;32m~\\AppData\\Local\\Packages\\PythonSoftwareFoundation.Python.3.11_qbz5n2kfra8p0\\LocalCache\\local-packages\\Python311\\site-packages\\pandas\\core\\series.py:4760\u001b[0m, in \u001b[0;36mSeries.apply\u001b[1;34m(self, func, convert_dtype, args, by_row, **kwargs)\u001b[0m\n\u001b[0;32m   4625\u001b[0m \u001b[38;5;28;01mdef\u001b[39;00m \u001b[38;5;21mapply\u001b[39m(\n\u001b[0;32m   4626\u001b[0m     \u001b[38;5;28mself\u001b[39m,\n\u001b[0;32m   4627\u001b[0m     func: AggFuncType,\n\u001b[1;32m   (...)\u001b[0m\n\u001b[0;32m   4632\u001b[0m     \u001b[38;5;241m*\u001b[39m\u001b[38;5;241m*\u001b[39mkwargs,\n\u001b[0;32m   4633\u001b[0m ) \u001b[38;5;241m-\u001b[39m\u001b[38;5;241m>\u001b[39m DataFrame \u001b[38;5;241m|\u001b[39m Series:\n\u001b[0;32m   4634\u001b[0m \u001b[38;5;250m    \u001b[39m\u001b[38;5;124;03m\"\"\"\u001b[39;00m\n\u001b[0;32m   4635\u001b[0m \u001b[38;5;124;03m    Invoke function on values of Series.\u001b[39;00m\n\u001b[0;32m   4636\u001b[0m \n\u001b[1;32m   (...)\u001b[0m\n\u001b[0;32m   4751\u001b[0m \u001b[38;5;124;03m    dtype: float64\u001b[39;00m\n\u001b[0;32m   4752\u001b[0m \u001b[38;5;124;03m    \"\"\"\u001b[39;00m\n\u001b[0;32m   4753\u001b[0m     \u001b[38;5;28;01mreturn\u001b[39;00m \u001b[43mSeriesApply\u001b[49m\u001b[43m(\u001b[49m\n\u001b[0;32m   4754\u001b[0m \u001b[43m        \u001b[49m\u001b[38;5;28;43mself\u001b[39;49m\u001b[43m,\u001b[49m\n\u001b[0;32m   4755\u001b[0m \u001b[43m        \u001b[49m\u001b[43mfunc\u001b[49m\u001b[43m,\u001b[49m\n\u001b[0;32m   4756\u001b[0m \u001b[43m        \u001b[49m\u001b[43mconvert_dtype\u001b[49m\u001b[38;5;241;43m=\u001b[39;49m\u001b[43mconvert_dtype\u001b[49m\u001b[43m,\u001b[49m\n\u001b[0;32m   4757\u001b[0m \u001b[43m        \u001b[49m\u001b[43mby_row\u001b[49m\u001b[38;5;241;43m=\u001b[39;49m\u001b[43mby_row\u001b[49m\u001b[43m,\u001b[49m\n\u001b[0;32m   4758\u001b[0m \u001b[43m        \u001b[49m\u001b[43margs\u001b[49m\u001b[38;5;241;43m=\u001b[39;49m\u001b[43margs\u001b[49m\u001b[43m,\u001b[49m\n\u001b[0;32m   4759\u001b[0m \u001b[43m        \u001b[49m\u001b[43mkwargs\u001b[49m\u001b[38;5;241;43m=\u001b[39;49m\u001b[43mkwargs\u001b[49m\u001b[43m,\u001b[49m\n\u001b[1;32m-> 4760\u001b[0m \u001b[43m    \u001b[49m\u001b[43m)\u001b[49m\u001b[38;5;241;43m.\u001b[39;49m\u001b[43mapply\u001b[49m\u001b[43m(\u001b[49m\u001b[43m)\u001b[49m\n",
            "File \u001b[1;32m~\\AppData\\Local\\Packages\\PythonSoftwareFoundation.Python.3.11_qbz5n2kfra8p0\\LocalCache\\local-packages\\Python311\\site-packages\\pandas\\core\\apply.py:1207\u001b[0m, in \u001b[0;36mSeriesApply.apply\u001b[1;34m(self)\u001b[0m\n\u001b[0;32m   1204\u001b[0m     \u001b[38;5;28;01mreturn\u001b[39;00m \u001b[38;5;28mself\u001b[39m\u001b[38;5;241m.\u001b[39mapply_compat()\n\u001b[0;32m   1206\u001b[0m \u001b[38;5;66;03m# self.func is Callable\u001b[39;00m\n\u001b[1;32m-> 1207\u001b[0m \u001b[38;5;28;01mreturn\u001b[39;00m \u001b[38;5;28;43mself\u001b[39;49m\u001b[38;5;241;43m.\u001b[39;49m\u001b[43mapply_standard\u001b[49m\u001b[43m(\u001b[49m\u001b[43m)\u001b[49m\n",
            "File \u001b[1;32m~\\AppData\\Local\\Packages\\PythonSoftwareFoundation.Python.3.11_qbz5n2kfra8p0\\LocalCache\\local-packages\\Python311\\site-packages\\pandas\\core\\apply.py:1287\u001b[0m, in \u001b[0;36mSeriesApply.apply_standard\u001b[1;34m(self)\u001b[0m\n\u001b[0;32m   1281\u001b[0m \u001b[38;5;66;03m# row-wise access\u001b[39;00m\n\u001b[0;32m   1282\u001b[0m \u001b[38;5;66;03m# apply doesn't have a `na_action` keyword and for backward compat reasons\u001b[39;00m\n\u001b[0;32m   1283\u001b[0m \u001b[38;5;66;03m# we need to give `na_action=\"ignore\"` for categorical data.\u001b[39;00m\n\u001b[0;32m   1284\u001b[0m \u001b[38;5;66;03m# TODO: remove the `na_action=\"ignore\"` when that default has been changed in\u001b[39;00m\n\u001b[0;32m   1285\u001b[0m \u001b[38;5;66;03m#  Categorical (GH51645).\u001b[39;00m\n\u001b[0;32m   1286\u001b[0m action \u001b[38;5;241m=\u001b[39m \u001b[38;5;124m\"\u001b[39m\u001b[38;5;124mignore\u001b[39m\u001b[38;5;124m\"\u001b[39m \u001b[38;5;28;01mif\u001b[39;00m \u001b[38;5;28misinstance\u001b[39m(obj\u001b[38;5;241m.\u001b[39mdtype, CategoricalDtype) \u001b[38;5;28;01melse\u001b[39;00m \u001b[38;5;28;01mNone\u001b[39;00m\n\u001b[1;32m-> 1287\u001b[0m mapped \u001b[38;5;241m=\u001b[39m \u001b[43mobj\u001b[49m\u001b[38;5;241;43m.\u001b[39;49m\u001b[43m_map_values\u001b[49m\u001b[43m(\u001b[49m\n\u001b[0;32m   1288\u001b[0m \u001b[43m    \u001b[49m\u001b[43mmapper\u001b[49m\u001b[38;5;241;43m=\u001b[39;49m\u001b[43mcurried\u001b[49m\u001b[43m,\u001b[49m\u001b[43m \u001b[49m\u001b[43mna_action\u001b[49m\u001b[38;5;241;43m=\u001b[39;49m\u001b[43maction\u001b[49m\u001b[43m,\u001b[49m\u001b[43m \u001b[49m\u001b[43mconvert\u001b[49m\u001b[38;5;241;43m=\u001b[39;49m\u001b[38;5;28;43mself\u001b[39;49m\u001b[38;5;241;43m.\u001b[39;49m\u001b[43mconvert_dtype\u001b[49m\n\u001b[0;32m   1289\u001b[0m \u001b[43m\u001b[49m\u001b[43m)\u001b[49m\n\u001b[0;32m   1291\u001b[0m \u001b[38;5;28;01mif\u001b[39;00m \u001b[38;5;28mlen\u001b[39m(mapped) \u001b[38;5;129;01mand\u001b[39;00m \u001b[38;5;28misinstance\u001b[39m(mapped[\u001b[38;5;241m0\u001b[39m], ABCSeries):\n\u001b[0;32m   1292\u001b[0m     \u001b[38;5;66;03m# GH#43986 Need to do list(mapped) in order to get treated as nested\u001b[39;00m\n\u001b[0;32m   1293\u001b[0m     \u001b[38;5;66;03m#  See also GH#25959 regarding EA support\u001b[39;00m\n\u001b[0;32m   1294\u001b[0m     \u001b[38;5;28;01mreturn\u001b[39;00m obj\u001b[38;5;241m.\u001b[39m_constructor_expanddim(\u001b[38;5;28mlist\u001b[39m(mapped), index\u001b[38;5;241m=\u001b[39mobj\u001b[38;5;241m.\u001b[39mindex)\n",
            "File \u001b[1;32m~\\AppData\\Local\\Packages\\PythonSoftwareFoundation.Python.3.11_qbz5n2kfra8p0\\LocalCache\\local-packages\\Python311\\site-packages\\pandas\\core\\base.py:921\u001b[0m, in \u001b[0;36mIndexOpsMixin._map_values\u001b[1;34m(self, mapper, na_action, convert)\u001b[0m\n\u001b[0;32m    918\u001b[0m \u001b[38;5;28;01mif\u001b[39;00m \u001b[38;5;28misinstance\u001b[39m(arr, ExtensionArray):\n\u001b[0;32m    919\u001b[0m     \u001b[38;5;28;01mreturn\u001b[39;00m arr\u001b[38;5;241m.\u001b[39mmap(mapper, na_action\u001b[38;5;241m=\u001b[39mna_action)\n\u001b[1;32m--> 921\u001b[0m \u001b[38;5;28;01mreturn\u001b[39;00m \u001b[43malgorithms\u001b[49m\u001b[38;5;241;43m.\u001b[39;49m\u001b[43mmap_array\u001b[49m\u001b[43m(\u001b[49m\u001b[43marr\u001b[49m\u001b[43m,\u001b[49m\u001b[43m \u001b[49m\u001b[43mmapper\u001b[49m\u001b[43m,\u001b[49m\u001b[43m \u001b[49m\u001b[43mna_action\u001b[49m\u001b[38;5;241;43m=\u001b[39;49m\u001b[43mna_action\u001b[49m\u001b[43m,\u001b[49m\u001b[43m \u001b[49m\u001b[43mconvert\u001b[49m\u001b[38;5;241;43m=\u001b[39;49m\u001b[43mconvert\u001b[49m\u001b[43m)\u001b[49m\n",
            "File \u001b[1;32m~\\AppData\\Local\\Packages\\PythonSoftwareFoundation.Python.3.11_qbz5n2kfra8p0\\LocalCache\\local-packages\\Python311\\site-packages\\pandas\\core\\algorithms.py:1814\u001b[0m, in \u001b[0;36mmap_array\u001b[1;34m(arr, mapper, na_action, convert)\u001b[0m\n\u001b[0;32m   1812\u001b[0m values \u001b[38;5;241m=\u001b[39m arr\u001b[38;5;241m.\u001b[39mastype(\u001b[38;5;28mobject\u001b[39m, copy\u001b[38;5;241m=\u001b[39m\u001b[38;5;28;01mFalse\u001b[39;00m)\n\u001b[0;32m   1813\u001b[0m \u001b[38;5;28;01mif\u001b[39;00m na_action \u001b[38;5;129;01mis\u001b[39;00m \u001b[38;5;28;01mNone\u001b[39;00m:\n\u001b[1;32m-> 1814\u001b[0m     \u001b[38;5;28;01mreturn\u001b[39;00m \u001b[43mlib\u001b[49m\u001b[38;5;241;43m.\u001b[39;49m\u001b[43mmap_infer\u001b[49m\u001b[43m(\u001b[49m\u001b[43mvalues\u001b[49m\u001b[43m,\u001b[49m\u001b[43m \u001b[49m\u001b[43mmapper\u001b[49m\u001b[43m,\u001b[49m\u001b[43m \u001b[49m\u001b[43mconvert\u001b[49m\u001b[38;5;241;43m=\u001b[39;49m\u001b[43mconvert\u001b[49m\u001b[43m)\u001b[49m\n\u001b[0;32m   1815\u001b[0m \u001b[38;5;28;01melse\u001b[39;00m:\n\u001b[0;32m   1816\u001b[0m     \u001b[38;5;28;01mreturn\u001b[39;00m lib\u001b[38;5;241m.\u001b[39mmap_infer_mask(\n\u001b[0;32m   1817\u001b[0m         values, mapper, mask\u001b[38;5;241m=\u001b[39misna(values)\u001b[38;5;241m.\u001b[39mview(np\u001b[38;5;241m.\u001b[39muint8), convert\u001b[38;5;241m=\u001b[39mconvert\n\u001b[0;32m   1818\u001b[0m     )\n",
            "File \u001b[1;32mlib.pyx:2917\u001b[0m, in \u001b[0;36mpandas._libs.lib.map_infer\u001b[1;34m()\u001b[0m\n",
            "Cell \u001b[1;32mIn[100], line 7\u001b[0m, in \u001b[0;36mget_coordinates\u001b[1;34m(address)\u001b[0m\n\u001b[0;32m      6\u001b[0m \u001b[38;5;28;01mdef\u001b[39;00m \u001b[38;5;21mget_coordinates\u001b[39m(address):\n\u001b[1;32m----> 7\u001b[0m     location \u001b[38;5;241m=\u001b[39m \u001b[43mgeocode\u001b[49m\u001b[43m(\u001b[49m\u001b[43maddress\u001b[49m\u001b[43m)\u001b[49m\n\u001b[0;32m      8\u001b[0m     \u001b[38;5;28;01mif\u001b[39;00m location:\n\u001b[0;32m      9\u001b[0m         \u001b[38;5;28mprint\u001b[39m(location\u001b[38;5;241m.\u001b[39mlatitude, location\u001b[38;5;241m.\u001b[39mlongitude)\n",
            "File \u001b[1;32m~\\AppData\\Local\\Packages\\PythonSoftwareFoundation.Python.3.11_qbz5n2kfra8p0\\LocalCache\\local-packages\\Python311\\site-packages\\geopy\\extra\\rate_limiter.py:272\u001b[0m, in \u001b[0;36mRateLimiter.__call__\u001b[1;34m(self, *args, **kwargs)\u001b[0m\n\u001b[0;32m    270\u001b[0m gen \u001b[38;5;241m=\u001b[39m \u001b[38;5;28mself\u001b[39m\u001b[38;5;241m.\u001b[39m_retries_gen(args, kwargs)\n\u001b[0;32m    271\u001b[0m \u001b[38;5;28;01mfor\u001b[39;00m _ \u001b[38;5;129;01min\u001b[39;00m gen:\n\u001b[1;32m--> 272\u001b[0m     \u001b[38;5;28;43mself\u001b[39;49m\u001b[38;5;241;43m.\u001b[39;49m\u001b[43m_acquire_request_slot\u001b[49m\u001b[43m(\u001b[49m\u001b[43m)\u001b[49m\n\u001b[0;32m    273\u001b[0m     \u001b[38;5;28;01mtry\u001b[39;00m:\n\u001b[0;32m    274\u001b[0m         res \u001b[38;5;241m=\u001b[39m \u001b[38;5;28mself\u001b[39m\u001b[38;5;241m.\u001b[39mfunc(\u001b[38;5;241m*\u001b[39margs, \u001b[38;5;241m*\u001b[39m\u001b[38;5;241m*\u001b[39mkwargs)\n",
            "File \u001b[1;32m~\\AppData\\Local\\Packages\\PythonSoftwareFoundation.Python.3.11_qbz5n2kfra8p0\\LocalCache\\local-packages\\Python311\\site-packages\\geopy\\extra\\rate_limiter.py:267\u001b[0m, in \u001b[0;36mRateLimiter._acquire_request_slot\u001b[1;34m(self)\u001b[0m\n\u001b[0;32m    265\u001b[0m \u001b[38;5;28;01mdef\u001b[39;00m \u001b[38;5;21m_acquire_request_slot\u001b[39m(\u001b[38;5;28mself\u001b[39m):\n\u001b[0;32m    266\u001b[0m     \u001b[38;5;28;01mfor\u001b[39;00m wait \u001b[38;5;129;01min\u001b[39;00m \u001b[38;5;28mself\u001b[39m\u001b[38;5;241m.\u001b[39m_acquire_request_slot_gen():\n\u001b[1;32m--> 267\u001b[0m         \u001b[38;5;28;43mself\u001b[39;49m\u001b[38;5;241;43m.\u001b[39;49m\u001b[43m_sleep\u001b[49m\u001b[43m(\u001b[49m\u001b[43mwait\u001b[49m\u001b[43m)\u001b[49m\n",
            "File \u001b[1;32m~\\AppData\\Local\\Packages\\PythonSoftwareFoundation.Python.3.11_qbz5n2kfra8p0\\LocalCache\\local-packages\\Python311\\site-packages\\geopy\\extra\\rate_limiter.py:263\u001b[0m, in \u001b[0;36mRateLimiter._sleep\u001b[1;34m(self, seconds)\u001b[0m\n\u001b[0;32m    261\u001b[0m \u001b[38;5;28;01mdef\u001b[39;00m \u001b[38;5;21m_sleep\u001b[39m(\u001b[38;5;28mself\u001b[39m, seconds):  \u001b[38;5;66;03m# pragma: no cover\u001b[39;00m\n\u001b[0;32m    262\u001b[0m     logger\u001b[38;5;241m.\u001b[39mdebug(\u001b[38;5;28mtype\u001b[39m(\u001b[38;5;28mself\u001b[39m)\u001b[38;5;241m.\u001b[39m\u001b[38;5;18m__name__\u001b[39m \u001b[38;5;241m+\u001b[39m \u001b[38;5;124m\"\u001b[39m\u001b[38;5;124m sleep(\u001b[39m\u001b[38;5;132;01m%r\u001b[39;00m\u001b[38;5;124m)\u001b[39m\u001b[38;5;124m\"\u001b[39m, seconds)\n\u001b[1;32m--> 263\u001b[0m     sleep(seconds)\n",
            "\u001b[1;31mKeyboardInterrupt\u001b[0m: "
          ]
        }
      ],
      "source": [
        "# Khởi tạo geolocator\n",
        "geolocator = Nominatim(user_agent=\"openstreetmap.org\")\n",
        "geocode = RateLimiter(geolocator.geocode, min_delay_seconds=1)\n",
        "\n",
        "# Hàm để lấy tọa độ từ địa chỉ\n",
        "def get_coordinates(address):\n",
        "    location = geocode(address)\n",
        "    if location:\n",
        "        return location.latitude, location.longitude\n",
        "    return None, None\n",
        "\n",
        "# Lấy danh sách các địa chỉ duy nhất\n",
        "unique_addresses = df['Địa_chỉ'].unique()\n",
        "\n",
        "# Tạo một DataFrame từ danh sách các địa chỉ duy nhất\n",
        "unique_df = pd.DataFrame(unique_addresses, columns=['Địa_chỉ'])\n",
        "\n",
        "# Chia DataFrame thành các chunk nhỏ\n",
        "chunk_size = 100  # Điều chỉnh số lượng dòng trong mỗi chunk theo nhu cầu\n",
        "chunks = [unique_df[i:i + chunk_size] for i in range(0, unique_df.shape[0], chunk_size)]\n",
        "\n",
        "# Tạo danh sách để lưu trữ các chunk đã xử lý\n",
        "processed_chunks = []\n",
        "\n",
        "# Xử lý từng chunk\n",
        "for chunk in chunks:\n",
        "    chunk['lat'], chunk['long'] = zip(*chunk['Địa_chỉ'].apply(get_coordinates))\n",
        "    processed_chunks.append(chunk)\n",
        "\n",
        "# Gộp lại các chunk sau khi đã xử lý\n",
        "processed_unique_df = pd.concat(processed_chunks, ignore_index=True)\n",
        "\n",
        "# Merge lại với DataFrame gốc\n",
        "result_df = pd.merge(df, processed_unique_df, on='Địa_chỉ', how='left')\n",
        "\n",
        "# In DataFrame kết quả\n",
        "print(result_df)"
      ]
    },
    {
      "cell_type": "markdown",
      "metadata": {},
      "source": [
        "# Xử lý thêm cột kinh độ, vĩ độ từ cột địa chỉ."
      ]
    },
    {
      "cell_type": "code",
      "execution_count": 96,
      "metadata": {},
      "outputs": [],
      "source": [
        "df.to_csv('VN_housing_dataset_preprocessed.csv',index=False)\n",
        "result_df.to_csv('result_df.csv',index=False)"
      ]
    },
    {
      "cell_type": "code",
      "execution_count": null,
      "metadata": {},
      "outputs": [],
      "source": []
    }
  ],
  "metadata": {
    "colab": {
      "provenance": []
    },
    "kernelspec": {
      "display_name": "Python 3",
      "name": "python3"
    },
    "language_info": {
      "codemirror_mode": {
        "name": "ipython",
        "version": 3
      },
      "file_extension": ".py",
      "mimetype": "text/x-python",
      "name": "python",
      "nbconvert_exporter": "python",
      "pygments_lexer": "ipython3",
      "version": "3.11.9"
    }
  },
  "nbformat": 4,
  "nbformat_minor": 0
}
